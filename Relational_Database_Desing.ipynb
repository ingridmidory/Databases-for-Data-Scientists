{
  "nbformat": 4,
  "nbformat_minor": 0,
  "metadata": {
    "colab": {
      "provenance": [],
      "authorship_tag": "ABX9TyN3nHq4AVCWLaT93J7afFMu",
      "include_colab_link": true
    },
    "kernelspec": {
      "name": "python3",
      "display_name": "Python 3"
    },
    "language_info": {
      "name": "python"
    }
  },
  "cells": [
    {
      "cell_type": "markdown",
      "metadata": {
        "id": "view-in-github",
        "colab_type": "text"
      },
      "source": [
        "<a href=\"https://colab.research.google.com/github/ingridmidory/Databases-for-Data-Scientists/blob/main/Relational_Database_Desing.ipynb\" target=\"_parent\"><img src=\"https://colab.research.google.com/assets/colab-badge.svg\" alt=\"Open In Colab\"/></a>"
      ]
    },
    {
      "cell_type": "markdown",
      "source": [
        "# Entities\n",
        "\n",
        "\n",
        "\n",
        "---\n",
        "\n",
        "\n"
      ],
      "metadata": {
        "id": "lytfs-ldbNtB"
      }
    },
    {
      "cell_type": "markdown",
      "source": [
        "# Attributes\n",
        "\n",
        "\n",
        "\n",
        "\n"
      ],
      "metadata": {
        "id": "LwRlnjvgXIgx"
      }
    },
    {
      "cell_type": "markdown",
      "source": [],
      "metadata": {
        "id": "fPk4v2DtbMpR"
      }
    },
    {
      "cell_type": "markdown",
      "source": [
        "# Instance\n"
      ],
      "metadata": {
        "id": "cu48Rbcda9Uq"
      }
    },
    {
      "cell_type": "markdown",
      "source": [],
      "metadata": {
        "id": "tqUMk41oben5"
      }
    },
    {
      "cell_type": "markdown",
      "source": [
        "# Identifiers\n"
      ],
      "metadata": {
        "id": "sUQ13TABbCvx"
      }
    },
    {
      "cell_type": "markdown",
      "source": [],
      "metadata": {
        "id": "NfCuOaCobLkJ"
      }
    },
    {
      "cell_type": "markdown",
      "source": [
        "# Relationships\n"
      ],
      "metadata": {
        "id": "_WsyeJn6bgbK"
      }
    }
  ]
}